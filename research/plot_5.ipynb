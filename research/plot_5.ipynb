{
 "cells": [
  {
   "cell_type": "code",
   "execution_count": 1,
   "metadata": {},
   "outputs": [],
   "source": [
    "import plotly.graph_objects as go\n",
    "import pandas as pd"
   ]
  },
  {
   "cell_type": "code",
   "execution_count": 2,
   "metadata": {},
   "outputs": [],
   "source": [
    "import pickle\n",
    "from utils import non_weather_training_columns_list, with_weather_training_columns_list"
   ]
  },
  {
   "cell_type": "code",
   "execution_count": 7,
   "metadata": {},
   "outputs": [],
   "source": [
    "def forecast_next_24_hours_output_flow_rate(year, month, day, hour, save_df=True):\n",
    "    \n",
    "    water_consumption_silver = pd.read_parquet(\"../data/silver/water_consumption_silver.parquet\")\n",
    "    original_input_df = pd.read_parquet(\"../data/silver/training_dataset.parquet\")\n",
    "    timestamp = pd.Timestamp(year=year, month=month, day=day, hour=hour)\n",
    "    input_df = original_input_df[original_input_df[\"timestamp\"] == timestamp]\n",
    "    \n",
    "    X = input_df[non_weather_training_columns_list]\n",
    "    X_weather = input_df[with_weather_training_columns_list]\n",
    "    \n",
    "    predictions = []\n",
    "    for i in range(1, 25):\n",
    "        new_prediction = {}\n",
    "        next_timestamp = timestamp + pd.Timedelta(hours=i)\n",
    "        model = pickle.load(open(f\"../models/xgb_{i}h.pkl\", \"rb\"))\n",
    "        new_prediction['timestamp'] = next_timestamp\n",
    "        new_prediction['forecasted_output_flow_rate'] = round(float(model.predict(X)[0]), 2)\n",
    "        predictions.append(new_prediction)\n",
    "\n",
    "\n",
    "    weather_predictions = []\n",
    "    for i in range(1, 25):\n",
    "        new_prediction = {}\n",
    "        next_timestamp = timestamp + pd.Timedelta(hours=i)\n",
    "        model = pickle.load(open(f\"../models/xgb_with_weather_{i}h.pkl\", \"rb\"))\n",
    "        new_prediction['timestamp'] = next_timestamp\n",
    "        new_prediction['weather_forecasted_output_flow_rate'] = round(float(model.predict(X_weather)[0]), 2)\n",
    "        weather_predictions.append(new_prediction)\n",
    "        \n",
    "    predictions = pd.DataFrame(predictions)\n",
    "    weather_predictions = pd.DataFrame(weather_predictions)\n",
    "    merged_df = pd.merge(predictions, weather_predictions, on='timestamp')\n",
    "    \n",
    "    last_timestamp = merged_df.timestamp.iloc[0]\n",
    "    first_timestamp = last_timestamp - pd.Timedelta(hours=72)\n",
    "    timestamps = pd.date_range(start=first_timestamp, end=last_timestamp-pd.Timedelta(hours=1), freq='h')\n",
    "    water_consumption_silver = water_consumption_silver[water_consumption_silver.timestamp.isin(timestamps)]\n",
    "    water_consumption_silver = water_consumption_silver[['timestamp', 'output_flow_rate']].rename(columns={'output_flow_rate': 'forecasted_output_flow_rate'})\n",
    "    water_consumption_silver['weather_forecasted_output_flow_rate'] = water_consumption_silver['forecasted_output_flow_rate']\n",
    "    water_consumption_silver['forecasted'] = False\n",
    "    merged_df['forecasted'] = True\n",
    "    final_df = pd.concat([water_consumption_silver, merged_df], axis=0).reset_index(drop=True)\n",
    "    \n",
    "    if not save_df:\n",
    "        return final_df\n",
    "    final_df.to_parquet(\"../data/gold/question_4_and_7_answer_test.parquet\")\n",
    "\n",
    "\n",
    "def simulate_empyting_reservoir(year, month, day, hour, return_df=True):\n",
    "    original_input_df = pd.read_parquet(\"../data/silver/water_consumption_silver.parquet\")\n",
    "    input_df = original_input_df[original_input_df[\"timestamp\"] == pd.Timestamp(year=year, month=month, day=day, hour=hour)]\n",
    "    start_index = input_df.index.values.tolist()[0]\n",
    "    yesterday_df = original_input_df.iloc[start_index-24:start_index, :].copy()\n",
    "    forecast_df = forecast_next_24_hours_output_flow_rate(year, month, day, hour, save_df=False).rename(columns={'forecasted_output_flow_rate': 'output_flow_rate'})\n",
    "    concated_df = pd.concat([input_df[['timestamp', 'reservoir_level_percentage', 'output_flow_rate']], forecast_df[['timestamp', 'output_flow_rate']]], axis=0)\n",
    "    concated_df['total_liters_out'] = concated_df['output_flow_rate'] * 3600\n",
    "    concated_df['percentage_out'] = concated_df['total_liters_out'] / 10000\n",
    "\n",
    "    while concated_df['reservoir_level_percentage'].isnull().any():\n",
    "        concated_df['reservoir_level_percentage'] = concated_df['reservoir_level_percentage'].fillna(concated_df['reservoir_level_percentage'].shift(1) - concated_df['percentage_out'])\n",
    "        \n",
    "    concated_df = concated_df.reset_index(drop=True)\n",
    "    hours_until_empyting = concated_df[concated_df.reservoir_level_percentage < 0].index.tolist()[0]\n",
    "    concated_df = concated_df.iloc[0:hours_until_empyting+1, :3]\n",
    "    concated_df.loc[:, 'simulation'] = True\n",
    "    yesterday_df.loc[:, 'simulation'] = False\n",
    "    \n",
    "    return concated_df, yesterday_df\n",
    "    new_concated_df = pd.concat([yesterday_df[['timestamp', 'reservoir_level_percentage', 'output_flow_rate', 'simulation']], concated_df], axis=0).reset_index(drop=True)\n",
    "    if return_df: \n",
    "        return new_concated_df\n",
    "    concated_df.to_parquet(\"../data/gold/question_5_answer.parquet\")\n",
    "    return hours_until_empyting"
   ]
  },
  {
   "cell_type": "code",
   "execution_count": 8,
   "metadata": {},
   "outputs": [],
   "source": [
    "concated, yesterday = simulate_empyting_reservoir(2023, 11, 13, 8, return_df=True)"
   ]
  },
  {
   "cell_type": "code",
   "execution_count": 10,
   "metadata": {},
   "outputs": [
    {
     "data": {
      "text/html": [
       "<div>\n",
       "<style scoped>\n",
       "    .dataframe tbody tr th:only-of-type {\n",
       "        vertical-align: middle;\n",
       "    }\n",
       "\n",
       "    .dataframe tbody tr th {\n",
       "        vertical-align: top;\n",
       "    }\n",
       "\n",
       "    .dataframe thead th {\n",
       "        text-align: right;\n",
       "    }\n",
       "</style>\n",
       "<table border=\"1\" class=\"dataframe\">\n",
       "  <thead>\n",
       "    <tr style=\"text-align: right;\">\n",
       "      <th></th>\n",
       "      <th>timestamp</th>\n",
       "      <th>hour</th>\n",
       "      <th>day_of_week</th>\n",
       "      <th>week_of_year</th>\n",
       "      <th>year</th>\n",
       "      <th>input_flow_rate</th>\n",
       "      <th>reservoir_level_percentage</th>\n",
       "      <th>pressure</th>\n",
       "      <th>output_flow_rate</th>\n",
       "      <th>air_temp_c</th>\n",
       "      <th>total_precip_mm</th>\n",
       "      <th>relative_humidity_percentage</th>\n",
       "      <th>pump_1</th>\n",
       "      <th>pump_2</th>\n",
       "      <th>simulation</th>\n",
       "    </tr>\n",
       "  </thead>\n",
       "  <tbody>\n",
       "    <tr>\n",
       "      <th>5756</th>\n",
       "      <td>2023-11-12 08:00:00</td>\n",
       "      <td>15</td>\n",
       "      <td>5</td>\n",
       "      <td>45</td>\n",
       "      <td>2023</td>\n",
       "      <td>0.0</td>\n",
       "      <td>63.4</td>\n",
       "      <td>30.45</td>\n",
       "      <td>0.37</td>\n",
       "      <td>23.3</td>\n",
       "      <td>0.0</td>\n",
       "      <td>86.0</td>\n",
       "      <td>0.0</td>\n",
       "      <td>0.0</td>\n",
       "      <td>False</td>\n",
       "    </tr>\n",
       "    <tr>\n",
       "      <th>5757</th>\n",
       "      <td>2023-11-12 09:00:00</td>\n",
       "      <td>15</td>\n",
       "      <td>5</td>\n",
       "      <td>45</td>\n",
       "      <td>2023</td>\n",
       "      <td>0.0</td>\n",
       "      <td>63.4</td>\n",
       "      <td>30.45</td>\n",
       "      <td>0.37</td>\n",
       "      <td>23.3</td>\n",
       "      <td>0.0</td>\n",
       "      <td>86.0</td>\n",
       "      <td>0.0</td>\n",
       "      <td>0.0</td>\n",
       "      <td>False</td>\n",
       "    </tr>\n",
       "    <tr>\n",
       "      <th>5758</th>\n",
       "      <td>2023-11-12 10:00:00</td>\n",
       "      <td>15</td>\n",
       "      <td>5</td>\n",
       "      <td>45</td>\n",
       "      <td>2023</td>\n",
       "      <td>0.0</td>\n",
       "      <td>63.4</td>\n",
       "      <td>30.45</td>\n",
       "      <td>0.37</td>\n",
       "      <td>23.3</td>\n",
       "      <td>0.0</td>\n",
       "      <td>86.0</td>\n",
       "      <td>0.0</td>\n",
       "      <td>0.0</td>\n",
       "      <td>False</td>\n",
       "    </tr>\n",
       "    <tr>\n",
       "      <th>5759</th>\n",
       "      <td>2023-11-12 11:00:00</td>\n",
       "      <td>15</td>\n",
       "      <td>5</td>\n",
       "      <td>45</td>\n",
       "      <td>2023</td>\n",
       "      <td>0.0</td>\n",
       "      <td>63.4</td>\n",
       "      <td>30.45</td>\n",
       "      <td>0.37</td>\n",
       "      <td>23.3</td>\n",
       "      <td>0.0</td>\n",
       "      <td>86.0</td>\n",
       "      <td>0.0</td>\n",
       "      <td>0.0</td>\n",
       "      <td>False</td>\n",
       "    </tr>\n",
       "    <tr>\n",
       "      <th>5760</th>\n",
       "      <td>2023-11-12 12:00:00</td>\n",
       "      <td>15</td>\n",
       "      <td>5</td>\n",
       "      <td>45</td>\n",
       "      <td>2023</td>\n",
       "      <td>0.0</td>\n",
       "      <td>63.4</td>\n",
       "      <td>30.45</td>\n",
       "      <td>0.37</td>\n",
       "      <td>23.3</td>\n",
       "      <td>0.0</td>\n",
       "      <td>86.0</td>\n",
       "      <td>0.0</td>\n",
       "      <td>0.0</td>\n",
       "      <td>False</td>\n",
       "    </tr>\n",
       "  </tbody>\n",
       "</table>\n",
       "</div>"
      ],
      "text/plain": [
       "               timestamp  hour  day_of_week  week_of_year  year  \\\n",
       "5756 2023-11-12 08:00:00    15            5            45  2023   \n",
       "5757 2023-11-12 09:00:00    15            5            45  2023   \n",
       "5758 2023-11-12 10:00:00    15            5            45  2023   \n",
       "5759 2023-11-12 11:00:00    15            5            45  2023   \n",
       "5760 2023-11-12 12:00:00    15            5            45  2023   \n",
       "\n",
       "      input_flow_rate  reservoir_level_percentage  pressure  output_flow_rate  \\\n",
       "5756              0.0                        63.4     30.45              0.37   \n",
       "5757              0.0                        63.4     30.45              0.37   \n",
       "5758              0.0                        63.4     30.45              0.37   \n",
       "5759              0.0                        63.4     30.45              0.37   \n",
       "5760              0.0                        63.4     30.45              0.37   \n",
       "\n",
       "      air_temp_c  total_precip_mm  relative_humidity_percentage  pump_1  \\\n",
       "5756        23.3              0.0                          86.0     0.0   \n",
       "5757        23.3              0.0                          86.0     0.0   \n",
       "5758        23.3              0.0                          86.0     0.0   \n",
       "5759        23.3              0.0                          86.0     0.0   \n",
       "5760        23.3              0.0                          86.0     0.0   \n",
       "\n",
       "      pump_2  simulation  \n",
       "5756     0.0       False  \n",
       "5757     0.0       False  \n",
       "5758     0.0       False  \n",
       "5759     0.0       False  \n",
       "5760     0.0       False  "
      ]
     },
     "execution_count": 10,
     "metadata": {},
     "output_type": "execute_result"
    }
   ],
   "source": [
    "yesterday.head()"
   ]
  },
  {
   "cell_type": "code",
   "execution_count": 9,
   "metadata": {},
   "outputs": [
    {
     "data": {
      "text/html": [
       "<div>\n",
       "<style scoped>\n",
       "    .dataframe tbody tr th:only-of-type {\n",
       "        vertical-align: middle;\n",
       "    }\n",
       "\n",
       "    .dataframe tbody tr th {\n",
       "        vertical-align: top;\n",
       "    }\n",
       "\n",
       "    .dataframe thead th {\n",
       "        text-align: right;\n",
       "    }\n",
       "</style>\n",
       "<table border=\"1\" class=\"dataframe\">\n",
       "  <thead>\n",
       "    <tr style=\"text-align: right;\">\n",
       "      <th></th>\n",
       "      <th>timestamp</th>\n",
       "      <th>reservoir_level_percentage</th>\n",
       "      <th>output_flow_rate</th>\n",
       "      <th>simulation</th>\n",
       "    </tr>\n",
       "  </thead>\n",
       "  <tbody>\n",
       "    <tr>\n",
       "      <th>0</th>\n",
       "      <td>2023-11-13 08:00:00</td>\n",
       "      <td>44.5600</td>\n",
       "      <td>0.00</td>\n",
       "      <td>True</td>\n",
       "    </tr>\n",
       "    <tr>\n",
       "      <th>1</th>\n",
       "      <td>2023-11-10 09:00:00</td>\n",
       "      <td>18.0316</td>\n",
       "      <td>73.69</td>\n",
       "      <td>True</td>\n",
       "    </tr>\n",
       "    <tr>\n",
       "      <th>2</th>\n",
       "      <td>2023-11-10 10:00:00</td>\n",
       "      <td>-8.4968</td>\n",
       "      <td>73.69</td>\n",
       "      <td>True</td>\n",
       "    </tr>\n",
       "  </tbody>\n",
       "</table>\n",
       "</div>"
      ],
      "text/plain": [
       "            timestamp  reservoir_level_percentage  output_flow_rate  \\\n",
       "0 2023-11-13 08:00:00                     44.5600              0.00   \n",
       "1 2023-11-10 09:00:00                     18.0316             73.69   \n",
       "2 2023-11-10 10:00:00                     -8.4968             73.69   \n",
       "\n",
       "   simulation  \n",
       "0        True  \n",
       "1        True  \n",
       "2        True  "
      ]
     },
     "execution_count": 9,
     "metadata": {},
     "output_type": "execute_result"
    }
   ],
   "source": [
    "concated.head()"
   ]
  },
  {
   "cell_type": "code",
   "execution_count": 5,
   "metadata": {},
   "outputs": [],
   "source": [
    "def create_question_5_plot(input_df):\n",
    "    df = input_df.copy()\n",
    "    real_data = df[df.simulation==False]\n",
    "    simulation_data = df[df.simulation==True]\n",
    "\n",
    "    fig = go.Figure()\n",
    "    fig.add_trace(go.Scatter(x=real_data.timestamp, y=real_data.reservoir_level_percentage, mode='lines+markers', name='Nivel do Reservatorio Real', line=dict(color='blue')))\n",
    "    fig.add_trace(go.Scatter(x=simulation_data.timestamp, y=simulation_data.reservoir_level_percentage, mode='lines+markers', name='Nivel do Reservatorio Simulado', line=dict(color='red')))\n",
    "    fig.update_layout(title={'text': 'Simulacao de Esvaziamento do Reservatorio em Queda de Energia', 'x': 0.5, 'xanchor': 'center'},xaxis_title='Horario', yaxis_title='Porcentagem do Reservatorio',legend_title='Type')\n",
    "    return fig"
   ]
  },
  {
   "cell_type": "code",
   "execution_count": 6,
   "metadata": {},
   "outputs": [
    {
     "data": {
      "application/vnd.plotly.v1+json": {
       "config": {
        "plotlyServerURL": "https://plot.ly"
       },
       "data": [
        {
         "line": {
          "color": "blue"
         },
         "mode": "lines+markers",
         "name": "Nivel do Reservatorio Real",
         "type": "scatter",
         "x": [
          "2023-11-12T08:00:00",
          "2023-11-12T09:00:00",
          "2023-11-12T10:00:00",
          "2023-11-12T11:00:00",
          "2023-11-12T12:00:00",
          "2023-11-12T13:00:00",
          "2023-11-12T14:00:00",
          "2023-11-12T15:00:00",
          "2023-11-12T16:00:00",
          "2023-11-12T17:00:00",
          "2023-11-12T18:00:00",
          "2023-11-12T19:00:00",
          "2023-11-12T20:00:00",
          "2023-11-12T21:00:00",
          "2023-11-12T22:00:00",
          "2023-11-12T23:00:00",
          "2023-11-13T00:00:00",
          "2023-11-13T01:00:00",
          "2023-11-13T02:00:00",
          "2023-11-13T03:00:00",
          "2023-11-13T04:00:00",
          "2023-11-13T05:00:00",
          "2023-11-13T06:00:00",
          "2023-11-13T07:00:00"
         ],
         "y": [
          63.4,
          63.4,
          63.4,
          63.4,
          63.4,
          63.4,
          63.4,
          63.4,
          63.4,
          63.4,
          63.4,
          63.4,
          63.4,
          63.4,
          63.4,
          10.5,
          10.5,
          10.5,
          10.5,
          44.56,
          44.56,
          44.56,
          44.56,
          44.56
         ]
        },
        {
         "line": {
          "color": "red"
         },
         "mode": "lines+markers",
         "name": "Nivel do Reservatorio Simulado",
         "type": "scatter",
         "x": [
          "2023-11-13T08:00:00",
          "2023-11-10T09:00:00",
          "2023-11-10T10:00:00"
         ],
         "y": [
          44.56,
          18.0316,
          -8.4968
         ]
        }
       ],
       "layout": {
        "legend": {
         "title": {
          "text": "Type"
         }
        },
        "template": {
         "data": {
          "bar": [
           {
            "error_x": {
             "color": "#2a3f5f"
            },
            "error_y": {
             "color": "#2a3f5f"
            },
            "marker": {
             "line": {
              "color": "#E5ECF6",
              "width": 0.5
             },
             "pattern": {
              "fillmode": "overlay",
              "size": 10,
              "solidity": 0.2
             }
            },
            "type": "bar"
           }
          ],
          "barpolar": [
           {
            "marker": {
             "line": {
              "color": "#E5ECF6",
              "width": 0.5
             },
             "pattern": {
              "fillmode": "overlay",
              "size": 10,
              "solidity": 0.2
             }
            },
            "type": "barpolar"
           }
          ],
          "carpet": [
           {
            "aaxis": {
             "endlinecolor": "#2a3f5f",
             "gridcolor": "white",
             "linecolor": "white",
             "minorgridcolor": "white",
             "startlinecolor": "#2a3f5f"
            },
            "baxis": {
             "endlinecolor": "#2a3f5f",
             "gridcolor": "white",
             "linecolor": "white",
             "minorgridcolor": "white",
             "startlinecolor": "#2a3f5f"
            },
            "type": "carpet"
           }
          ],
          "choropleth": [
           {
            "colorbar": {
             "outlinewidth": 0,
             "ticks": ""
            },
            "type": "choropleth"
           }
          ],
          "contour": [
           {
            "colorbar": {
             "outlinewidth": 0,
             "ticks": ""
            },
            "colorscale": [
             [
              0,
              "#0d0887"
             ],
             [
              0.1111111111111111,
              "#46039f"
             ],
             [
              0.2222222222222222,
              "#7201a8"
             ],
             [
              0.3333333333333333,
              "#9c179e"
             ],
             [
              0.4444444444444444,
              "#bd3786"
             ],
             [
              0.5555555555555556,
              "#d8576b"
             ],
             [
              0.6666666666666666,
              "#ed7953"
             ],
             [
              0.7777777777777778,
              "#fb9f3a"
             ],
             [
              0.8888888888888888,
              "#fdca26"
             ],
             [
              1,
              "#f0f921"
             ]
            ],
            "type": "contour"
           }
          ],
          "contourcarpet": [
           {
            "colorbar": {
             "outlinewidth": 0,
             "ticks": ""
            },
            "type": "contourcarpet"
           }
          ],
          "heatmap": [
           {
            "colorbar": {
             "outlinewidth": 0,
             "ticks": ""
            },
            "colorscale": [
             [
              0,
              "#0d0887"
             ],
             [
              0.1111111111111111,
              "#46039f"
             ],
             [
              0.2222222222222222,
              "#7201a8"
             ],
             [
              0.3333333333333333,
              "#9c179e"
             ],
             [
              0.4444444444444444,
              "#bd3786"
             ],
             [
              0.5555555555555556,
              "#d8576b"
             ],
             [
              0.6666666666666666,
              "#ed7953"
             ],
             [
              0.7777777777777778,
              "#fb9f3a"
             ],
             [
              0.8888888888888888,
              "#fdca26"
             ],
             [
              1,
              "#f0f921"
             ]
            ],
            "type": "heatmap"
           }
          ],
          "heatmapgl": [
           {
            "colorbar": {
             "outlinewidth": 0,
             "ticks": ""
            },
            "colorscale": [
             [
              0,
              "#0d0887"
             ],
             [
              0.1111111111111111,
              "#46039f"
             ],
             [
              0.2222222222222222,
              "#7201a8"
             ],
             [
              0.3333333333333333,
              "#9c179e"
             ],
             [
              0.4444444444444444,
              "#bd3786"
             ],
             [
              0.5555555555555556,
              "#d8576b"
             ],
             [
              0.6666666666666666,
              "#ed7953"
             ],
             [
              0.7777777777777778,
              "#fb9f3a"
             ],
             [
              0.8888888888888888,
              "#fdca26"
             ],
             [
              1,
              "#f0f921"
             ]
            ],
            "type": "heatmapgl"
           }
          ],
          "histogram": [
           {
            "marker": {
             "pattern": {
              "fillmode": "overlay",
              "size": 10,
              "solidity": 0.2
             }
            },
            "type": "histogram"
           }
          ],
          "histogram2d": [
           {
            "colorbar": {
             "outlinewidth": 0,
             "ticks": ""
            },
            "colorscale": [
             [
              0,
              "#0d0887"
             ],
             [
              0.1111111111111111,
              "#46039f"
             ],
             [
              0.2222222222222222,
              "#7201a8"
             ],
             [
              0.3333333333333333,
              "#9c179e"
             ],
             [
              0.4444444444444444,
              "#bd3786"
             ],
             [
              0.5555555555555556,
              "#d8576b"
             ],
             [
              0.6666666666666666,
              "#ed7953"
             ],
             [
              0.7777777777777778,
              "#fb9f3a"
             ],
             [
              0.8888888888888888,
              "#fdca26"
             ],
             [
              1,
              "#f0f921"
             ]
            ],
            "type": "histogram2d"
           }
          ],
          "histogram2dcontour": [
           {
            "colorbar": {
             "outlinewidth": 0,
             "ticks": ""
            },
            "colorscale": [
             [
              0,
              "#0d0887"
             ],
             [
              0.1111111111111111,
              "#46039f"
             ],
             [
              0.2222222222222222,
              "#7201a8"
             ],
             [
              0.3333333333333333,
              "#9c179e"
             ],
             [
              0.4444444444444444,
              "#bd3786"
             ],
             [
              0.5555555555555556,
              "#d8576b"
             ],
             [
              0.6666666666666666,
              "#ed7953"
             ],
             [
              0.7777777777777778,
              "#fb9f3a"
             ],
             [
              0.8888888888888888,
              "#fdca26"
             ],
             [
              1,
              "#f0f921"
             ]
            ],
            "type": "histogram2dcontour"
           }
          ],
          "mesh3d": [
           {
            "colorbar": {
             "outlinewidth": 0,
             "ticks": ""
            },
            "type": "mesh3d"
           }
          ],
          "parcoords": [
           {
            "line": {
             "colorbar": {
              "outlinewidth": 0,
              "ticks": ""
             }
            },
            "type": "parcoords"
           }
          ],
          "pie": [
           {
            "automargin": true,
            "type": "pie"
           }
          ],
          "scatter": [
           {
            "fillpattern": {
             "fillmode": "overlay",
             "size": 10,
             "solidity": 0.2
            },
            "type": "scatter"
           }
          ],
          "scatter3d": [
           {
            "line": {
             "colorbar": {
              "outlinewidth": 0,
              "ticks": ""
             }
            },
            "marker": {
             "colorbar": {
              "outlinewidth": 0,
              "ticks": ""
             }
            },
            "type": "scatter3d"
           }
          ],
          "scattercarpet": [
           {
            "marker": {
             "colorbar": {
              "outlinewidth": 0,
              "ticks": ""
             }
            },
            "type": "scattercarpet"
           }
          ],
          "scattergeo": [
           {
            "marker": {
             "colorbar": {
              "outlinewidth": 0,
              "ticks": ""
             }
            },
            "type": "scattergeo"
           }
          ],
          "scattergl": [
           {
            "marker": {
             "colorbar": {
              "outlinewidth": 0,
              "ticks": ""
             }
            },
            "type": "scattergl"
           }
          ],
          "scattermapbox": [
           {
            "marker": {
             "colorbar": {
              "outlinewidth": 0,
              "ticks": ""
             }
            },
            "type": "scattermapbox"
           }
          ],
          "scatterpolar": [
           {
            "marker": {
             "colorbar": {
              "outlinewidth": 0,
              "ticks": ""
             }
            },
            "type": "scatterpolar"
           }
          ],
          "scatterpolargl": [
           {
            "marker": {
             "colorbar": {
              "outlinewidth": 0,
              "ticks": ""
             }
            },
            "type": "scatterpolargl"
           }
          ],
          "scatterternary": [
           {
            "marker": {
             "colorbar": {
              "outlinewidth": 0,
              "ticks": ""
             }
            },
            "type": "scatterternary"
           }
          ],
          "surface": [
           {
            "colorbar": {
             "outlinewidth": 0,
             "ticks": ""
            },
            "colorscale": [
             [
              0,
              "#0d0887"
             ],
             [
              0.1111111111111111,
              "#46039f"
             ],
             [
              0.2222222222222222,
              "#7201a8"
             ],
             [
              0.3333333333333333,
              "#9c179e"
             ],
             [
              0.4444444444444444,
              "#bd3786"
             ],
             [
              0.5555555555555556,
              "#d8576b"
             ],
             [
              0.6666666666666666,
              "#ed7953"
             ],
             [
              0.7777777777777778,
              "#fb9f3a"
             ],
             [
              0.8888888888888888,
              "#fdca26"
             ],
             [
              1,
              "#f0f921"
             ]
            ],
            "type": "surface"
           }
          ],
          "table": [
           {
            "cells": {
             "fill": {
              "color": "#EBF0F8"
             },
             "line": {
              "color": "white"
             }
            },
            "header": {
             "fill": {
              "color": "#C8D4E3"
             },
             "line": {
              "color": "white"
             }
            },
            "type": "table"
           }
          ]
         },
         "layout": {
          "annotationdefaults": {
           "arrowcolor": "#2a3f5f",
           "arrowhead": 0,
           "arrowwidth": 1
          },
          "autotypenumbers": "strict",
          "coloraxis": {
           "colorbar": {
            "outlinewidth": 0,
            "ticks": ""
           }
          },
          "colorscale": {
           "diverging": [
            [
             0,
             "#8e0152"
            ],
            [
             0.1,
             "#c51b7d"
            ],
            [
             0.2,
             "#de77ae"
            ],
            [
             0.3,
             "#f1b6da"
            ],
            [
             0.4,
             "#fde0ef"
            ],
            [
             0.5,
             "#f7f7f7"
            ],
            [
             0.6,
             "#e6f5d0"
            ],
            [
             0.7,
             "#b8e186"
            ],
            [
             0.8,
             "#7fbc41"
            ],
            [
             0.9,
             "#4d9221"
            ],
            [
             1,
             "#276419"
            ]
           ],
           "sequential": [
            [
             0,
             "#0d0887"
            ],
            [
             0.1111111111111111,
             "#46039f"
            ],
            [
             0.2222222222222222,
             "#7201a8"
            ],
            [
             0.3333333333333333,
             "#9c179e"
            ],
            [
             0.4444444444444444,
             "#bd3786"
            ],
            [
             0.5555555555555556,
             "#d8576b"
            ],
            [
             0.6666666666666666,
             "#ed7953"
            ],
            [
             0.7777777777777778,
             "#fb9f3a"
            ],
            [
             0.8888888888888888,
             "#fdca26"
            ],
            [
             1,
             "#f0f921"
            ]
           ],
           "sequentialminus": [
            [
             0,
             "#0d0887"
            ],
            [
             0.1111111111111111,
             "#46039f"
            ],
            [
             0.2222222222222222,
             "#7201a8"
            ],
            [
             0.3333333333333333,
             "#9c179e"
            ],
            [
             0.4444444444444444,
             "#bd3786"
            ],
            [
             0.5555555555555556,
             "#d8576b"
            ],
            [
             0.6666666666666666,
             "#ed7953"
            ],
            [
             0.7777777777777778,
             "#fb9f3a"
            ],
            [
             0.8888888888888888,
             "#fdca26"
            ],
            [
             1,
             "#f0f921"
            ]
           ]
          },
          "colorway": [
           "#636efa",
           "#EF553B",
           "#00cc96",
           "#ab63fa",
           "#FFA15A",
           "#19d3f3",
           "#FF6692",
           "#B6E880",
           "#FF97FF",
           "#FECB52"
          ],
          "font": {
           "color": "#2a3f5f"
          },
          "geo": {
           "bgcolor": "white",
           "lakecolor": "white",
           "landcolor": "#E5ECF6",
           "showlakes": true,
           "showland": true,
           "subunitcolor": "white"
          },
          "hoverlabel": {
           "align": "left"
          },
          "hovermode": "closest",
          "mapbox": {
           "style": "light"
          },
          "paper_bgcolor": "white",
          "plot_bgcolor": "#E5ECF6",
          "polar": {
           "angularaxis": {
            "gridcolor": "white",
            "linecolor": "white",
            "ticks": ""
           },
           "bgcolor": "#E5ECF6",
           "radialaxis": {
            "gridcolor": "white",
            "linecolor": "white",
            "ticks": ""
           }
          },
          "scene": {
           "xaxis": {
            "backgroundcolor": "#E5ECF6",
            "gridcolor": "white",
            "gridwidth": 2,
            "linecolor": "white",
            "showbackground": true,
            "ticks": "",
            "zerolinecolor": "white"
           },
           "yaxis": {
            "backgroundcolor": "#E5ECF6",
            "gridcolor": "white",
            "gridwidth": 2,
            "linecolor": "white",
            "showbackground": true,
            "ticks": "",
            "zerolinecolor": "white"
           },
           "zaxis": {
            "backgroundcolor": "#E5ECF6",
            "gridcolor": "white",
            "gridwidth": 2,
            "linecolor": "white",
            "showbackground": true,
            "ticks": "",
            "zerolinecolor": "white"
           }
          },
          "shapedefaults": {
           "line": {
            "color": "#2a3f5f"
           }
          },
          "ternary": {
           "aaxis": {
            "gridcolor": "white",
            "linecolor": "white",
            "ticks": ""
           },
           "baxis": {
            "gridcolor": "white",
            "linecolor": "white",
            "ticks": ""
           },
           "bgcolor": "#E5ECF6",
           "caxis": {
            "gridcolor": "white",
            "linecolor": "white",
            "ticks": ""
           }
          },
          "title": {
           "x": 0.05
          },
          "xaxis": {
           "automargin": true,
           "gridcolor": "white",
           "linecolor": "white",
           "ticks": "",
           "title": {
            "standoff": 15
           },
           "zerolinecolor": "white",
           "zerolinewidth": 2
          },
          "yaxis": {
           "automargin": true,
           "gridcolor": "white",
           "linecolor": "white",
           "ticks": "",
           "title": {
            "standoff": 15
           },
           "zerolinecolor": "white",
           "zerolinewidth": 2
          }
         }
        },
        "title": {
         "text": "Simulacao de Esvaziamento do Reservatorio em Queda de Energia",
         "x": 0.5,
         "xanchor": "center"
        },
        "xaxis": {
         "title": {
          "text": "Horario"
         }
        },
        "yaxis": {
         "title": {
          "text": "Porcentagem do Reservatorio"
         }
        }
       }
      }
     },
     "metadata": {},
     "output_type": "display_data"
    }
   ],
   "source": [
    "fig = create_question_5_plot(df)\n",
    "fig.show()"
   ]
  }
 ],
 "metadata": {
  "kernelspec": {
   "display_name": "pcd",
   "language": "python",
   "name": "python3"
  },
  "language_info": {
   "codemirror_mode": {
    "name": "ipython",
    "version": 3
   },
   "file_extension": ".py",
   "mimetype": "text/x-python",
   "name": "python",
   "nbconvert_exporter": "python",
   "pygments_lexer": "ipython3",
   "version": "3.12.4"
  }
 },
 "nbformat": 4,
 "nbformat_minor": 2
}
